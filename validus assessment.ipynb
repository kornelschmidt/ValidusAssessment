{
 "cells": [
  {
   "cell_type": "code",
   "execution_count": 94,
   "metadata": {},
   "outputs": [],
   "source": [
    "#starting parameters\n",
    "import seaborn as sns\n",
    "import numpy_financial as npf\n",
    "import numpy as np\n",
    "import matplotlib.pyplot as plt\n",
    "import pandas as pd\n",
    "S0 = 1.28065 #starting price\n",
    "v = 0.05 #percent increase / decrease in price per time\n",
    "q = 1/2 #up probability\n",
    "K = S0 #strike price\n",
    "N = 10 #number of periods for binomial model\n",
    "#interest rate modelled at 0\n",
    "\n",
    "put_price = .09"
   ]
  },
  {
   "cell_type": "code",
   "execution_count": 73,
   "metadata": {},
   "outputs": [],
   "source": [
    "def value_call(S0, v, K, N, q):\n",
    "    #calculates the prices of a call option\n",
    "    #spot prices at maturity\n",
    "    S = np.zeros(N+1)\n",
    "    S[0] = S0*(1-v)**N\n",
    "    for i in range(1,N+1):\n",
    "        S[i] = S[i-1]*(1+v)/(1-v)\n",
    "    #initialize call prices array\n",
    "    C = np.zeros(N+1)\n",
    "    for i in range(0, N+1):\n",
    "        C[i] = max(0,S[i] - K) #compute payoff at maturity\n",
    "    for j in np.arange(N,0,-1):\n",
    "        for i in range(0,j):\n",
    "            C[i] = q*C[i+1] + (1-q) * C[i]\n",
    "    return C[0]\n",
    " \n",
    "def value_put(S0, v, K, N, q):\n",
    "    #calculated using put call parity\n",
    "    #C = P + S - PV(K)\n",
    "    return value_call(S0, v, K, N, q) - S0 + K\n",
    "\n",
    "def find_v(S0, put_price, K, N, q, guess = 0.5, min = 0, max = S0, accuracy = 0.0001):\n",
    "    #finds the value of v for a given price, where parameter 'accuracy' sets how close you want to get\n",
    "    while abs(max - min) > accuracy:\n",
    "        print('running find_v, guess: ', guess)\n",
    "        if value_put(S0, guess, K, N, q) < put_price:\n",
    "            print('value > guess')\n",
    "            min = guess\n",
    "            guess = (max + guess) / 2\n",
    "            return find_v(S0, put_price, K, N, q, guess, min, max, accuracy)\n",
    "        else:\n",
    "            print('value < guess')\n",
    "            max = guess\n",
    "            guess = (min + guess) / 2\n",
    "            return find_v(S0, put_price, K, N, q, guess, min, max, accuracy)\n",
    "    return guess\n",
    "\n",
    "\n",
    "def max_Sj(S0, v, N):\n",
    "    #max underlying price within N periods\n",
    "    return S0 * (1+v)**N\n",
    "\n",
    "def exp_S(S0, v, N):\n",
    "    #expected value of underlying price in N periods\n",
    "    S = np.zeros(N+1)\n",
    "    S[0] = S0*(1-v)**N\n",
    "    for i in range(1,N+1):\n",
    "        S[i] = S[i-1]*(1+v)/(1-v)\n",
    "    total_ST = sum(S)\n",
    "    return sum(S) / (N + 1)\n",
    "\n",
    "def end_paths_S(S0, v, N):\n",
    "    #maps out only the end paths for the underlying in the binomial model\n",
    "    S = np.zeros(N+1)\n",
    "    S[0] = S0*(1-v)**N\n",
    "    for i in range(1,N+1):\n",
    "        S[i] = S[i-1]*(1+v)/(1-v)\n",
    "    return S\n",
    "\n",
    "def all_paths(S0, v, N):\n",
    "    #maps out all the paths the binomial model can take\n",
    "    values = np.zeros((N+1, N+1))\n",
    "    for i in range(N+1):\n",
    "        for j in range(i+1):\n",
    "            values[j,i] = S0 * ((1+v)**j) * ((1-v)**(i-j))\n",
    "    for i in range(N+1):\n",
    "        for j in range(i):\n",
    "            values[i,j] = S0 * (1+v)**j\n",
    "    return values"
   ]
  },
  {
   "cell_type": "code",
   "execution_count": 8,
   "metadata": {},
   "outputs": [
    {
     "data": {
      "text/plain": [
       "0.06501440827594052"
      ]
     },
     "execution_count": 8,
     "metadata": {},
     "output_type": "execute_result"
    }
   ],
   "source": [
    "#calculate put and call price\n",
    "callPrice = value_call(S0, v, K, N, q)\n",
    "putPrice = value_put(S0, v, K, N, q)\n",
    "putPrice\n"
   ]
  },
  {
   "cell_type": "code",
   "execution_count": 9,
   "metadata": {},
   "outputs": [
    {
     "name": "stdout",
     "output_type": "stream",
     "text": [
      "running find_v, guess:  0.5\n",
      "value < guess\n",
      "running find_v, guess:  0.25\n",
      "value < guess\n",
      "running find_v, guess:  0.125\n",
      "value < guess\n",
      "running find_v, guess:  0.0625\n",
      "value > guess\n",
      "running find_v, guess:  0.09375\n",
      "value < guess\n",
      "running find_v, guess:  0.078125\n",
      "value < guess\n",
      "running find_v, guess:  0.0703125\n",
      "value < guess\n",
      "running find_v, guess:  0.06640625\n",
      "value > guess\n",
      "running find_v, guess:  0.068359375\n",
      "value < guess\n",
      "running find_v, guess:  0.0673828125\n",
      "value < guess\n"
     ]
    },
    {
     "data": {
      "text/plain": [
       "0.06689453125"
      ]
     },
     "execution_count": 9,
     "metadata": {},
     "output_type": "execute_result"
    }
   ],
   "source": [
    "#example to find v\n",
    "v = find_v(S0, put_price, K, N, q, guess = 0.5, min = 0, max = S0, accuracy = 0.001)\n",
    "v"
   ]
  },
  {
   "cell_type": "code",
   "execution_count": 10,
   "metadata": {},
   "outputs": [
    {
     "data": {
      "text/plain": [
       "2.4470640896798415"
      ]
     },
     "execution_count": 10,
     "metadata": {},
     "output_type": "execute_result"
    }
   ],
   "source": [
    "max_Sj(S0, v, N)"
   ]
  },
  {
   "cell_type": "code",
   "execution_count": 11,
   "metadata": {},
   "outputs": [
    {
     "data": {
      "text/plain": [
       "1.2825602509697278"
      ]
     },
     "execution_count": 11,
     "metadata": {},
     "output_type": "execute_result"
    }
   ],
   "source": [
    "exp_S(S0, v, 2)"
   ]
  },
  {
   "cell_type": "code",
   "execution_count": 12,
   "metadata": {},
   "outputs": [
    {
     "data": {
      "text/plain": [
       "0.15000000000000036"
      ]
     },
     "execution_count": 12,
     "metadata": {},
     "output_type": "execute_result"
    }
   ],
   "source": [
    "#IRR of the original cash flows in documents\n",
    "cashflows_original = [\n",
    "    -100_000_000,\n",
    "    15_000_000,\n",
    "    15_000_000,\n",
    "    15_000_000,\n",
    "    115_000_000,\n",
    "]\n",
    "npf.irr(cashflows_original)"
   ]
  },
  {
   "cell_type": "code",
   "execution_count": 13,
   "metadata": {},
   "outputs": [
    {
     "data": {
      "text/plain": [
       "0.1607295089073384"
      ]
     },
     "execution_count": 13,
     "metadata": {},
     "output_type": "execute_result"
    }
   ],
   "source": [
    "#IRR of the expected value of the cash flows\n",
    "cashflows = [\n",
    "    -100_000_000 * S0,\n",
    "    15_000_000 * exp_S(S0, v, 2),\n",
    "    15_000_000 * exp_S(S0, v, 4),\n",
    "    15_000_000 * exp_S(S0, v, 6),\n",
    "    115_000_000 * exp_S(S0, v, 8),\n",
    "]\n",
    "npf.irr(cashflows)\n"
   ]
  },
  {
   "cell_type": "code",
   "execution_count": 57,
   "metadata": {},
   "outputs": [
    {
     "name": "stdout",
     "output_type": "stream",
     "text": [
      "[[1.28065, 1.1949815185546875, 1.1150437900185586, 1.0404534583620437, 0.9708528119774733, 0.9059080682074959, 0.8453077726291623, 0.7887613054171531, 0.7359974876231344, 0.6867632806874072, 0.6408225729461109], [1.28065, 1.3663184814453126, 1.2749192470908166, 1.1896341216750734, 1.110054104746614, 1.0357975557474508, 0.9665083637858295, 0.9018542398411719, 0.8415251232111717, 0.7852316945588618, 0.7327039884287035], [1.28065, 1.3663184814453126, 1.4577177157998085, 1.3602043725065596, 1.269214138603533, 1.184310653745777, 1.1050867477090722, 1.0311624877304868, 0.9621833564711719, 0.8978185518634814, 0.8377594006890199], [1.28065, 1.3663184814453126, 1.4577177157998085, 1.5552310590930576, 1.4511946064095864, 1.3541176234612888, 1.263534559782482, 1.1790110076876577, 1.100141618989802, 1.026548161078863, 0.9578777030379428], [1.28065, 1.3663184814453126, 1.4577177157998085, 1.5552310590930576, 1.6592675117765285, 1.5482715893578838, 1.4447006871400956, 1.348058111877306, 1.2578803963855136, 1.1737350769007406, 1.0952186191197828], [1.28065, 1.3663184814453126, 1.4577177157998085, 1.5552310590930576, 1.6592675117765285, 1.7702634341951733, 1.651842491575672, 1.5413432624028853, 1.4382358273690985, 1.3420257158702869, 1.2522515346816983], [1.28065, 1.3663184814453126, 1.4577177157998085, 1.5552310590930576, 1.6592675117765285, 1.7702634341951733, 1.8886843768146746, 1.7623417207484586, 1.644450697436672, 1.5344459388679104, 1.4317998970588752], [1.28065, 1.3663184814453126, 1.4577177157998085, 1.5552310590930576, 1.6592675117765285, 1.7702634341951733, 1.8886843768146746, 2.015027032880891, 1.8802327440602453, 1.754455456005434, 1.6370919806769455], [1.28065, 1.3663184814453126, 1.4577177157998085, 1.5552310590930576, 1.6592675117765285, 1.7702634341951733, 1.8886843768146746, 2.015027032880891, 2.1498213217015363, 2.0060100321150567, 1.8718189313339224], [1.28065, 1.3663184814453126, 1.4577177157998085, 1.5552310590930576, 1.6592675117765285, 1.7702634341951733, 1.8886843768146746, 2.015027032880891, 2.1498213217015363, 2.293632611288016, 2.1402011328961907], [1.28065, 1.3663184814453126, 1.4577177157998085, 1.5552310590930576, 1.6592675117765285, 1.7702634341951733, 1.8886843768146746, 2.015027032880891, 2.1498213217015363, 2.293632611288016, 2.4470640896798415]]\n"
     ]
    }
   ],
   "source": [
    "test = all_paths(S0, v, N).tolist()\n",
    "print(test)"
   ]
  },
  {
   "cell_type": "code",
   "execution_count": 91,
   "metadata": {},
   "outputs": [
    {
     "data": {
      "text/plain": [
       "<seaborn.axisgrid.FacetGrid at 0x2c0b11c3c90>"
      ]
     },
     "execution_count": 91,
     "metadata": {},
     "output_type": "execute_result"
    },
    {
     "data": {
      "image/png": "[encoded data removed]",
      "text/plain": [
       "<Figure size 500x500 with 1 Axes>"
      ]
     },
     "metadata": {},
     "output_type": "display_data"
    }
   ],
   "source": [
    "#calculate IRR for different paths with the cashflows provided, no option\n",
    "paths = all_paths(S0, v, N).tolist()\n",
    "\n",
    "#work out the cashflows expected along all possible paths\n",
    "cashflows = []\n",
    "for k in range(N + 1):\n",
    "    cashflow = [-100_000_000 * S0] + [15_000_000] * 4 + [115_000_000]\n",
    "    cashflows.append(cashflow)\n",
    "for i in range(len(cashflows)):\n",
    "    for j in range(1, len(cashflows[i])):\n",
    "        cashflows[i][j] *= paths[i][j*2]\n",
    "\n",
    "#calculate IRRs for the path\n",
    "IRRs = [0] * (N+1)\n",
    "for i in range(len(IRRs)):\n",
    "    IRRs[i] = npf.irr(cashflows[i])\n",
    "path_num = []\n",
    "for i in range(len(IRRs)):\n",
    "    path_num += [i+1]\n",
    "\n",
    "#display the data\n",
    "IRRdf = pd.DataFrame(list(zip(path_num, IRRs)), columns = ['path_num', 'IRR'])\n",
    "IRRdf\n",
    "sns.set_theme()\n",
    "sns.relplot(\n",
    "    data=IRRdf,\n",
    "    x=\"path_num\", y=\"IRR\"\n",
    ")"
   ]
  },
  {
   "cell_type": "code",
   "execution_count": 95,
   "metadata": {},
   "outputs": [
    {
     "name": "stdout",
     "output_type": "stream",
     "text": [
      "option_price:  8048787.275357072\n"
     ]
    },
    {
     "data": {
      "text/plain": [
       "<seaborn.axisgrid.FacetGrid at 0x2c0af18f7d0>"
      ]
     },
     "execution_count": 95,
     "metadata": {},
     "output_type": "execute_result"
    },
    {
     "data": {
      "image/png": "[encoded data removed]",
      "text/plain": [
       "<Figure size 500x500 with 1 Axes>"
      ]
     },
     "metadata": {},
     "output_type": "display_data"
    }
   ],
   "source": [
    "#calculate the IRRs using the option as a hedge\n",
    "paths = all_paths(S0, v, N).tolist()\n",
    "option_notional = 100_000_000\n",
    "option_price = option_notional * value_put(S0, v, K, 10, q)\n",
    "print(\"option_price: \", option_price)\n",
    "\n",
    "#work out the cashflows expected along all possible paths\n",
    "cashflows = []\n",
    "for k in range(N + 1):\n",
    "    cashflow = [-100_000_000 * S0 - option_price] + [15_000_000] * 4 + [115_000_000]\n",
    "    cashflows.append(cashflow)\n",
    "for i in range(len(cashflows)):\n",
    "    for j in range(1, len(cashflows[i])):\n",
    "        cashflows[i][j] *= paths[i][j*2]\n",
    "        if j == 5:\n",
    "            cashflows[i][j] += max(0, (K - paths[i][j*2]) * option_notional)\n",
    "\n",
    "#calculate IRRs for the path\n",
    "IRRs = [0] * (N+1)\n",
    "for i in range(len(IRRs)):\n",
    "    IRRs[i] = npf.irr(cashflows[i])\n",
    "path_num = []\n",
    "for i in range(len(IRRs)):\n",
    "    path_num += [i+1]\n",
    "\n",
    "#display the data\n",
    "IRRdf = pd.DataFrame(list(zip(path_num, IRRs)), columns = ['path_num', 'IRR'])\n",
    "IRRdf\n",
    "sns.set_theme()\n",
    "sns.relplot(\n",
    "    data=IRRdf,\n",
    "    x=\"path_num\", y=\"IRR\"\n",
    ")"
   ]
  },
  {
   "cell_type": "code",
   "execution_count": null,
   "metadata": {},
   "outputs": [],
   "source": []
  }
 ],
 "metadata": {
  "kernelspec": {
   "display_name": ".venv",
   "language": "python",
   "name": "python3"
  },
  "language_info": {
   "codemirror_mode": {
    "name": "ipython",
    "version": 3
   },
   "file_extension": ".py",
   "mimetype": "text/x-python",
   "name": "python",
   "nbconvert_exporter": "python",
   "pygments_lexer": "ipython3",
   "version": "3.11.4"
  }
 },
 "nbformat": 4,
 "nbformat_minor": 2
}
